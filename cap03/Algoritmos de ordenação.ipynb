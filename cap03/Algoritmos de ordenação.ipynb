{
 "cells": [
  {
   "cell_type": "markdown",
   "id": "a0b7fb57",
   "metadata": {},
   "source": [
    "# Pseudocódigo Bubble Sort"
   ]
  },
  {
   "cell_type": "raw",
   "id": "59aefa70",
   "metadata": {},
   "source": [
    "Inicio \n",
    "    Para cada elemento i no array de tamanho n \n",
    "        para cada elemento j no array de tamanho n - 1 \n",
    "            se elemento i for maior que elemento j \n",
    "                troque os elementos i e j \n",
    "    \n",
    "    exiba o array ordenado"
   ]
  },
  {
   "cell_type": "code",
   "execution_count": 35,
   "id": "5b7d930d",
   "metadata": {},
   "outputs": [
    {
     "name": "stdout",
     "output_type": "stream",
     "text": [
      "[10, 5, 4, 8, 6, 12, 15, 84, 56, 74, 85, 96, 20]\n"
     ]
    }
   ],
   "source": [
    "lista = [10, 5, 4, 8, 6, 12, 15, 84, 56, 74, 85, 96, 20]\n",
    "n = len(lista)"
   ]
  },
  {
   "cell_type": "code",
   "execution_count": 39,
   "id": "dc7bae7c",
   "metadata": {},
   "outputs": [
    {
     "name": "stdout",
     "output_type": "stream",
     "text": [
      "[4, 5, 6, 8, 10, 12, 15, 20, 56, 74, 84, 85, 96]\n"
     ]
    }
   ],
   "source": [
    "for i in range(n):\n",
    "    for j in range(0, n-i-1):\n",
    "        # Troca os elementos caso o próximo seja menor\n",
    "        if lista[j] > lista[j + 1]:\n",
    "            lista[j], lista[j + 1] = lista[j + 1], lista[j]\n",
    "            \n",
    "print(lista)"
   ]
  },
  {
   "cell_type": "markdown",
   "id": "d5f46003",
   "metadata": {},
   "source": [
    "# Selection Sort"
   ]
  },
  {
   "cell_type": "code",
   "execution_count": 45,
   "id": "c07501d3",
   "metadata": {},
   "outputs": [],
   "source": [
    "lista = [10, 5, 4, 8, 6, 12, 15, 84, 56, 74, 85, 96, 20]\n",
    "n = len(lista)"
   ]
  },
  {
   "cell_type": "code",
   "execution_count": 46,
   "id": "b37e07ae",
   "metadata": {},
   "outputs": [
    {
     "name": "stdout",
     "output_type": "stream",
     "text": [
      "[4, 5, 6, 8, 10, 12, 15, 20, 56, 74, 84, 85, 96]\n"
     ]
    }
   ],
   "source": [
    "# Laço para percorrer cada elemento da lista\n",
    "for i in range(n):\n",
    "    # Armazena o índice do menor valor encontrado até o momento\n",
    "    indice_do_menor = i\n",
    "    \n",
    "    # Percorre o restante da lista, começando pelo próximo elemento\n",
    "    for j in range(i + 1, n):\n",
    "        # Verifica se o valor do elemento atual é menor que o valor do elemento de menor índice\n",
    "        if lista[j] < lista[indice_do_menor]:\n",
    "            # Atualiza o índice do menor valor encontrado\n",
    "            indice_do_menor = j\n",
    "            \n",
    "    # Troca os valores das posições para colocar o menor valor na posição correta\n",
    "    valor_temporario = lista[indice_do_menor]\n",
    "    lista[indice_do_menor] = lista[i]\n",
    "    lista[i] = valor_temporario\n",
    "\n",
    "# Imprime a lista ordenada\n",
    "print(lista)\n"
   ]
  },
  {
   "cell_type": "code",
   "execution_count": null,
   "id": "afb2bbe4",
   "metadata": {},
   "outputs": [],
   "source": []
  }
 ],
 "metadata": {
  "kernelspec": {
   "display_name": "Python 3 (ipykernel)",
   "language": "python",
   "name": "python3"
  },
  "language_info": {
   "codemirror_mode": {
    "name": "ipython",
    "version": 3
   },
   "file_extension": ".py",
   "mimetype": "text/x-python",
   "name": "python",
   "nbconvert_exporter": "python",
   "pygments_lexer": "ipython3",
   "version": "3.10.9"
  }
 },
 "nbformat": 4,
 "nbformat_minor": 5
}
